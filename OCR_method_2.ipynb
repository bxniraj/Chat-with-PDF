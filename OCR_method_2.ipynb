{
  "cells": [
    {
      "cell_type": "markdown",
      "metadata": {},
      "source": [
        "I have used fitz and tesseract ocr method to extract the text."
      ]
    },
    {
      "cell_type": "code",
      "execution_count": null,
      "metadata": {
        "id": "oFG8XPlSiFOT"
      },
      "outputs": [],
      "source": [
        "!pip install pytesseract pdf2image PyMuPDF Pillow PyPDF2 pdfminer.six pdfplumber"
      ]
    },
    {
      "cell_type": "code",
      "execution_count": null,
      "metadata": {
        "id": "nLxtNifEiGDY"
      },
      "outputs": [],
      "source": [
        "!sudo apt install tesseract-ocr\n",
        "!sudo apt install poppler-utils"
      ]
    },
    {
      "cell_type": "code",
      "execution_count": null,
      "metadata": {
        "id": "Tg8GjmBuR5GU"
      },
      "outputs": [],
      "source": [
        "# covert all the pdf pages to an images and then extract texts from images\n",
        "import fitz\n",
        "import pytesseract\n",
        "from PIL import Image\n",
        "from concurrent.futures import ThreadPoolExecutor\n",
        "\n",
        "\n",
        "doc = fitz.open('aasdf.pdf')\n",
        "all_texts = ' '\n",
        "\n",
        "# matrix is used for quality of image\n",
        "def extract_text_from_page(page_number):\n",
        "    page = doc[page_number]\n",
        "    pix = page.get_pixmap(matrix=fitz.Matrix(10, 10))\n",
        "    image = Image.frombytes(\"RGB\", [pix.width, pix.height], pix.samples)\n",
        "    extracted_text = pytesseract.image_to_string(image)\n",
        "    return extracted_text.replace('\\n\\n', '|')\n",
        "\n",
        "def process_page(page_number):\n",
        "        text = extract_text_from_page(page_number)\n",
        "        return text\n",
        "\n",
        "# threadpoolexecutor helps to process pages parallelly (muliple pages processing at a time)\n",
        "with ThreadPoolExecutor(max_workers= 10) as executor:\n",
        "    page_numbers = range(len(doc))\n",
        "    results = list(executor.map(process_page, page_numbers))\n",
        "\n",
        "all_texts = ' '.join(results)\n",
        "print(all_texts)\n"
      ]
    },
    {
      "cell_type": "code",
      "execution_count": null,
      "metadata": {
        "id": "4KkTT2SkSJOQ"
      },
      "outputs": [],
      "source": [
        "# first extract all the texts from the pdf\n",
        "# after that its extract all the texts from images\n",
        "\n",
        "import pytesseract\n",
        "from PIL import Image\n",
        "import fitz\n",
        "import io\n",
        "\n",
        "docs = fitz.open('docs5.pdf')\n",
        "\n",
        "def extract_image_text(image):\n",
        "  return pytesseract.image_to_string(image)\n",
        "\n",
        "all_texts = ''\n",
        "for page_number in range(docs.page_count):\n",
        "  page = docs[page_number]\n",
        "  all_texts += page.get_text()\n",
        "  text = page.get_images()\n",
        "\n",
        "  for image_index, img in enumerate(page.get_images(), start=1):\n",
        "    xref = img[0]\n",
        "    base_image = docs.extract_image(xref=xref)\n",
        "    image_bytes = base_image[\"image\"]\n",
        "\n",
        "    image = Image.open(io.BytesIO(image_bytes))\n",
        "\n",
        "    all_texts += extract_image_text(image).replace(\"\\n\", \" \")\n",
        "\n",
        "all_texts"
      ]
    },
    {
      "cell_type": "code",
      "execution_count": null,
      "metadata": {
        "id": "3Q-NBihEJJw_"
      },
      "outputs": [],
      "source": [
        "# extract both images and text parallelly\n",
        "\n",
        "from pdfminer.high_level import extract_text\n",
        "from pdf2image import convert_from_path\n",
        "import pytesseract\n",
        "\n",
        "def extract_text_from_pdf(pdf_path):\n",
        "    return extract_text(pdf_path)\n",
        "\n",
        "def extract_images_from_pdf(pdf_path):\n",
        "    images = convert_from_path(pdf_path)\n",
        "    return images\n",
        "\n",
        "def perform_ocr(image):\n",
        "    return pytesseract.image_to_string(image)\n",
        "\n",
        "def main(pdf_path):\n",
        "    # Extract text\n",
        "    text_content = extract_text_from_pdf(pdf_path)\n",
        "\n",
        "    # Extract images\n",
        "    images = extract_images_from_pdf(pdf_path)\n",
        "\n",
        "    # Perform OCR on each image\n",
        "    ocr_results = []\n",
        "    for idx, image in enumerate(images):\n",
        "        ocr_text = perform_ocr(image)\n",
        "        ocr_results.append((f\"Image {idx + 1}\", ocr_text))\n",
        "\n",
        "    return text_content, ocr_results\n",
        "\n",
        "# upload pdf\n",
        "pdf_path = '2-TOEFL Listening.pdf'\n",
        "\n",
        "# Extract text and images\n",
        "pdf_text, pdf_ocr_results = main(pdf_path)\n",
        "\n",
        "for image_info, ocr_text in pdf_ocr_results:\n",
        "    print(f\"{image_info}:\\n{ocr_text}\\n\")"
      ]
    }
  ],
  "metadata": {
    "colab": {
      "provenance": []
    },
    "kernelspec": {
      "display_name": "Python 3",
      "name": "python3"
    },
    "language_info": {
      "name": "python"
    }
  },
  "nbformat": 4,
  "nbformat_minor": 0
}
